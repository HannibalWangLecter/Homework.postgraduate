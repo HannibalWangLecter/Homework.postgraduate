{
 "cells": [
  {
   "cell_type": "markdown",
   "metadata": {},
   "source": [
    "# Bengio Model Text Classifier"
   ]
  },
  {
   "cell_type": "code",
   "execution_count": 1,
   "metadata": {
    "collapsed": true
   },
   "outputs": [],
   "source": [
    "import caffe\n",
    "import os\n",
    "import numpy as np\n",
    "import matplotlib.pyplot as plt\n",
    "from sklearn.metrics import cohen_kappa_score as CKS\n",
    "from scipy.stats.stats import pearsonr\n",
    "import pandas as pd\n",
    "%matplotlib inline\n",
    "plt.rcParams['figure.figsize'] = (10,6)"
   ]
  },
  {
   "cell_type": "code",
   "execution_count": 2,
   "metadata": {},
   "outputs": [],
   "source": [
    "caffe.set_mode_cpu()\n",
    "\n",
    "model_def = 'AES_deploy.prototxt'\n",
    "model_weights = 'AES.caffemodel'\n",
    "\n",
    "net = caffe.Net(model_def,  model_weights,  caffe.TEST) "
   ]
  },
  {
   "cell_type": "code",
   "execution_count": 3,
   "metadata": {},
   "outputs": [
    {
     "name": "stdout",
     "output_type": "stream",
     "text": [
      "data\t(100, 161)\n",
      "label\t(100,)\n",
      "wrd2vec\t(100, 161, 100)\n",
      "FC1\t(100, 200)\n",
      "pred\t(100, 5)\n",
      "probs\t(100, 5)\n"
     ]
    }
   ],
   "source": [
    "# for each layer, show the output shape\n",
    "for layer_name, blob in net.blobs.items():\n",
    "    print (layer_name + '\\t' + str(blob.data.shape))"
   ]
  },
  {
   "cell_type": "code",
   "execution_count": 4,
   "metadata": {},
   "outputs": [
    {
     "name": "stdout",
     "output_type": "stream",
     "text": [
      "wrd2vec\t(701, 100)(100,)\n",
      "FC1\t(200, 16100)(200,)\n",
      "pred\t(5, 200)(5,)\n"
     ]
    }
   ],
   "source": [
    "for layer_name, param in net.params.items():\n",
    "    print (layer_name + '\\t' + str(param[0].data.shape) + str(param[1].data.shape))"
   ]
  },
  {
   "cell_type": "code",
   "execution_count": 6,
   "metadata": {},
   "outputs": [],
   "source": [
    "iters = 3\n",
    "pred = []\n",
    "labs = []\n",
    "for i in range(iters):\n",
    "    net.forward()\n",
    "    for n in range(100):\n",
    "        pr = np.argmax(net.blobs['probs'].data[n])\n",
    "        lb = net.blobs['label'].data[n]\n",
    "        pred.append(pr)\n",
    "        labs.append(lb)"
   ]
  },
  {
   "cell_type": "code",
   "execution_count": 49,
   "metadata": {
    "collapsed": true
   },
   "outputs": [],
   "source": [
    "# Use this when loss is Euclidean\n",
    "'''\n",
    "iters = 3\n",
    "labs = []\n",
    "pred = []\n",
    "for i in range(iters):\n",
    "    net.forward()\n",
    "    pred_y = np.round(net.blobs['pred'].data,0).tolist()\n",
    "    flat_y = [val for sublist in pred_y for val in sublist]\n",
    "    lab_y = net.blobs['label'].data\n",
    "    labs.extend(lab_y)\n",
    "    pred.extend(flat_y)\n",
    "'''"
   ]
  },
  {
   "cell_type": "code",
   "execution_count": 8,
   "metadata": {},
   "outputs": [
    {
     "data": {
      "text/plain": [
       "0.6180715492092737"
      ]
     },
     "execution_count": 8,
     "metadata": {},
     "output_type": "execute_result"
    }
   ],
   "source": [
    "CKS(pred,labs,weights='quadratic') "
   ]
  },
  {
   "cell_type": "code",
   "execution_count": 9,
   "metadata": {},
   "outputs": [
    {
     "data": {
      "text/plain": [
       "0.64263851098382"
      ]
     },
     "execution_count": 9,
     "metadata": {},
     "output_type": "execute_result"
    }
   ],
   "source": [
    "pearsonr(pred,labs)[0] "
   ]
  },
  {
   "cell_type": "code",
   "execution_count": 10,
   "metadata": {
    "collapsed": true
   },
   "outputs": [],
   "source": [
    "acc = []\n",
    "for i in range(len(labs)):\n",
    "    ac = int(pred[i] == labs[i])\n",
    "    acc.append(ac)"
   ]
  },
  {
   "cell_type": "code",
   "execution_count": 11,
   "metadata": {},
   "outputs": [
    {
     "data": {
      "text/plain": [
       "0.5366666666666666"
      ]
     },
     "execution_count": 11,
     "metadata": {},
     "output_type": "execute_result"
    }
   ],
   "source": [
    "np.sum(acc)/len(acc)"
   ]
  }
 ],
 "metadata": {
  "anaconda-cloud": {},
  "kernelspec": {
   "display_name": "Python [conda root]",
   "language": "python",
   "name": "conda-root-py"
  },
  "language_info": {
   "codemirror_mode": {
    "name": "ipython",
    "version": 3
   },
   "file_extension": ".py",
   "mimetype": "text/x-python",
   "name": "python",
   "nbconvert_exporter": "python",
   "pygments_lexer": "ipython3",
   "version": "3.5.3"
  }
 },
 "nbformat": 4,
 "nbformat_minor": 2
}
