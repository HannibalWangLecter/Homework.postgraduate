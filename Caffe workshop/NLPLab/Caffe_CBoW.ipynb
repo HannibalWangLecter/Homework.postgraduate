{
 "cells": [
  {
   "cell_type": "markdown",
   "metadata": {},
   "source": [
    "# Word2Vec in Caffe - Continuous Bag of Words "
   ]
  },
  {
   "cell_type": "markdown",
   "metadata": {},
   "source": [
    "## Pre-train a word embedding layer for use in an AES"
   ]
  },
  {
   "cell_type": "code",
   "execution_count": 3,
   "metadata": {
    "collapsed": true
   },
   "outputs": [],
   "source": [
    "import os\n",
    "from nltk.tokenize import word_tokenize     # tokenise words\n",
    "from nltk.corpus import stopwords, wordnet  # obtain English stopwords and small dictionary\n",
    "from nltk.probability import FreqDist       # get frequency distribution of tokens\n",
    "# from nltk.stem import PorterStemmer         # get stems of words\n",
    "import string\n",
    "import numpy as np\n",
    "import h5py\n",
    "from keras.preprocessing.sequence import skipgrams"
   ]
  },
  {
   "cell_type": "markdown",
   "metadata": {},
   "source": [
    "### Open Hewlitt Packard Kaggle AES Competition Data - Essay Set 6"
   ]
  },
  {
   "cell_type": "code",
   "execution_count": 4,
   "metadata": {},
   "outputs": [
    {
     "ename": "FileNotFoundError",
     "evalue": "[Errno 2] No such file or directory: 'train_data.txt'",
     "output_type": "error",
     "traceback": [
      "\u001b[1;31m---------------------------------------------------------------------------\u001b[0m",
      "\u001b[1;31mFileNotFoundError\u001b[0m                         Traceback (most recent call last)",
      "\u001b[1;32m<ipython-input-4-d1457a732789>\u001b[0m in \u001b[0;36m<module>\u001b[1;34m()\u001b[0m\n\u001b[0;32m      2\u001b[0m \u001b[0mstop_words\u001b[0m \u001b[1;33m=\u001b[0m \u001b[0mstopwords\u001b[0m\u001b[1;33m.\u001b[0m\u001b[0mwords\u001b[0m\u001b[1;33m(\u001b[0m\u001b[1;34m\"english\"\u001b[0m\u001b[1;33m)\u001b[0m  \u001b[1;31m# load stopwords\u001b[0m\u001b[1;33m\u001b[0m\u001b[0m\n\u001b[0;32m      3\u001b[0m \u001b[1;33m\u001b[0m\u001b[0m\n\u001b[1;32m----> 4\u001b[1;33m \u001b[0mf\u001b[0m \u001b[1;33m=\u001b[0m \u001b[0mopen\u001b[0m\u001b[1;33m(\u001b[0m\u001b[1;34m'train_data.txt'\u001b[0m\u001b[1;33m,\u001b[0m\u001b[1;34m'r'\u001b[0m\u001b[1;33m)\u001b[0m\u001b[1;33m\u001b[0m\u001b[0m\n\u001b[0m\u001b[0;32m      5\u001b[0m \u001b[0mtrn_data\u001b[0m \u001b[1;33m=\u001b[0m \u001b[0mf\u001b[0m\u001b[1;33m.\u001b[0m\u001b[0mreadlines\u001b[0m\u001b[1;33m(\u001b[0m\u001b[1;33m)\u001b[0m\u001b[1;33m\u001b[0m\u001b[0m\n\u001b[0;32m      6\u001b[0m \u001b[0mf\u001b[0m\u001b[1;33m.\u001b[0m\u001b[0mclose\u001b[0m\u001b[1;33m(\u001b[0m\u001b[1;33m)\u001b[0m\u001b[1;33m\u001b[0m\u001b[0m\n",
      "\u001b[1;31mFileNotFoundError\u001b[0m: [Errno 2] No such file or directory: 'train_data.txt'"
     ]
    }
   ],
   "source": [
    "wordlist = {w for w in wordnet.words() if w.lower()} # small dictionary of words\n",
    "stop_words = stopwords.words(\"english\")  # load stopwords\n",
    "\n",
    "f = open('train_data.txt','r')\n",
    "trn_data = f.readlines()\n",
    "f.close()\n",
    "\n",
    "f = open('train_labs.txt','r')\n",
    "trn_labels = f.readlines()\n",
    "f.close()\n",
    "\n",
    "f = open('test_data.txt','r')\n",
    "tst_data = f.readlines()\n",
    "f.close()\n",
    "\n",
    "f = open('test_labs.txt','r')\n",
    "tst_labels = f.readlines()\n",
    "f.close()\n",
    "\n",
    "trn_labs = []\n",
    "tst_labs = []\n",
    "\n",
    "for lab in trn_labels:\n",
    "    trn_labs.append(int(lab.split('\\n')[0]))\n",
    "    \n",
    "for labs in tst_labels:\n",
    "    tst_labs.append(int(labs.split('\\n')[0]))\n",
    "\n",
    "del lab, labs, trn_labels, tst_labels\n",
    "\n",
    "all_data = trn_data + tst_data"
   ]
  },
  {
   "cell_type": "markdown",
   "metadata": {},
   "source": [
    "### Conduct text preprocessing using the \"nltk\" package of Python"
   ]
  },
  {
   "cell_type": "code",
   "execution_count": 14,
   "metadata": {
    "collapsed": true
   },
   "outputs": [],
   "source": [
    "corpus = []\n",
    "\n",
    "for file in all_data:\n",
    "    text = file.lower()\n",
    "    tokens = word_tokenize(text)\n",
    "    cln_txt = filter(lambda x: x not in stop_words, tokens)          # remove stop words\n",
    "    cln_txt = filter(lambda x: x not in string.punctuation, tokens) # remove punctuation\n",
    "    cln_txt = list(filter(lambda x: x in wordlist, cln_txt))         # remove mispelt words\n",
    "    cln_txt = [item for item in cln_txt if item.isalpha()]           # remove numerical characters\n",
    "    cln_txt = [word for word in cln_txt if len(word) > 2]            # remove words less than 2 letters long\n",
    "    corpus.extend(cln_txt)\n",
    "\n",
    "freq_dist = FreqDist(corpus)"
   ]
  },
  {
   "cell_type": "markdown",
   "metadata": {},
   "source": [
    "### Create vocabulary"
   ]
  },
  {
   "cell_type": "code",
   "execution_count": 15,
   "metadata": {
    "collapsed": true
   },
   "outputs": [],
   "source": [
    "commonwords = freq_dist.most_common(3000)       # Identify N most common words\n",
    "\n",
    "common = commonwords[0:700]                     # Select M words that occur less than a certain frequency\n",
    "\n",
    "common = [i[0] for i in common]                 # Convert list of tuples to list of words\n",
    "\n",
    "vocab = sorted(list(set(common)))\n",
    "\n",
    "vocab.extend(['AAPAD']) # document padding tag\n",
    "\n",
    "#vocab.extend(['UNK']) # unknown word tag\n",
    "\n",
    "vocab = sorted(vocab)\n",
    "\n",
    "word_to_idx = { word: idx for idx, word in enumerate(vocab) } # vocab dict for corpus"
   ]
  },
  {
   "cell_type": "markdown",
   "metadata": {},
   "source": [
    "### Create training dataset for AES"
   ]
  },
  {
   "cell_type": "code",
   "execution_count": 16,
   "metadata": {
    "collapsed": true
   },
   "outputs": [],
   "source": [
    "data_trn = []\n",
    "\n",
    "for file in trn_data:\n",
    "    text = file.lower()\n",
    "    tokens = word_tokenize(text)\n",
    "    cln_txt = filter(lambda x: x not in string.punctuation, tokens)\n",
    "    cln_txt = filter(lambda x: x not in stop_words, cln_txt)\n",
    "    cln_txt = list(filter(lambda x: x in wordlist, cln_txt))\n",
    "    cln_txt = [item for item in cln_txt if item.isalpha()]\n",
    "    cln_txt = list(filter(lambda x: x in common, cln_txt))\n",
    "    #cln_txt = [word if word in common else 'UNK' for word in cln_txt]\n",
    "    cln_txt = [word for word in cln_txt if len(word) > 2]\n",
    "    w = []\n",
    "    for word in cln_txt:\n",
    "        val = word_to_idx[word]\n",
    "        w.append(val)\n",
    "    data_trn.append(w)\n",
    "\n",
    "lendoc_trn = []\n",
    "\n",
    "for doc in data_trn:\n",
    "    ldoc = len(doc)\n",
    "    lendoc_trn.append(ldoc)\n",
    "\n",
    "max_doc_len_trn = np.max(lendoc_trn)\n",
    "\n",
    "store_mat_trn = np.zeros((len(data_trn),max_doc_len_trn), dtype=np.float32)\n",
    "\n",
    "for i in range(len(data_trn)):\n",
    "    padarray = np.asarray(data_trn[i])\n",
    "    padarray = np.pad(padarray,(0,max_doc_len_trn - len(data_trn[i])), mode='constant')\n",
    "    store_mat_trn[i,:] = padarray\n",
    "\n",
    "scores_trn = np.asarray(trn_labs, dtype=np.float32)\n",
    "\n",
    "hdf_trn_file = \"trn_aes.hdf5\"\n",
    "hdf_list_trn_file = \"trn_aes_hdf5_list.txt\"\n",
    "\n",
    "with h5py.File(hdf_trn_file, \"w\") as f:\n",
    "    #Create dataset\n",
    "    f.create_dataset(\"data\", data=store_mat_trn)\n",
    "    f.create_dataset(\"label\", data=scores_trn)\n",
    "    f.close()\n",
    "with open(hdf_list_trn_file, \"w\") as f:\n",
    "    f.write(hdf_trn_file)\n",
    "    f.close()"
   ]
  },
  {
   "cell_type": "code",
   "execution_count": 17,
   "metadata": {},
   "outputs": [
    {
     "data": {
      "text/plain": [
       "(1500, 161)"
      ]
     },
     "execution_count": 17,
     "metadata": {},
     "output_type": "execute_result"
    }
   ],
   "source": [
    "store_mat_trn.shape"
   ]
  },
  {
   "cell_type": "markdown",
   "metadata": {},
   "source": [
    "### Create test set for AES"
   ]
  },
  {
   "cell_type": "code",
   "execution_count": 7,
   "metadata": {
    "collapsed": true
   },
   "outputs": [],
   "source": [
    "data_tst = []\n",
    "\n",
    "for file in tst_data:\n",
    "    text = file.lower()\n",
    "    tokens = word_tokenize(text)\n",
    "    cln_txt = filter(lambda x: x not in string.punctuation, tokens)\n",
    "    cln_txt = filter(lambda x: x not in stop_words, cln_txt)\n",
    "    cln_txt = list(filter(lambda x: x in wordlist, cln_txt))\n",
    "    cln_txt = [item for item in cln_txt if item.isalpha()]\n",
    "    cln_txt = list(filter(lambda x: x in common, cln_txt))\n",
    "    #cln_txt = [word if word in common else 'UNK' for word in cln_txt]\n",
    "    cln_txt = [word for word in cln_txt if len(word) > 2]\n",
    "    w = []\n",
    "    for word in cln_txt:\n",
    "        val = word_to_idx[word]\n",
    "        w.append(val)\n",
    "    data_tst.append(w)\n",
    "\n",
    "lendoc_tst = []\n",
    "\n",
    "for doc in data_tst:\n",
    "    ldoc = len(doc)\n",
    "    lendoc_tst.append(ldoc)\n",
    "\n",
    "max_doc_len_tst = np.max(lendoc_tst)\n",
    "\n",
    "store_mat_tst = np.zeros((len(data_tst),max_doc_len_trn), dtype=np.float32)\n",
    "\n",
    "for i in range(len(data_tst)):\n",
    "    padarray = np.asarray(data_tst[i])\n",
    "    padarray = np.pad(padarray,(0,max_doc_len_trn - len(data_tst[i])), mode='constant')\n",
    "    store_mat_tst[i,:] = padarray\n",
    "    \n",
    "scores_tst = np.asarray(tst_labs, dtype=np.float32)\n",
    "\n",
    "hdf_tst_file = \"tst_aes.hdf5\"\n",
    "hdf_list_tst_file = \"tst_aes_hdf5_list.txt\"\n",
    "\n",
    "with h5py.File(hdf_tst_file, \"w\") as f:\n",
    "    #Create dataset\n",
    "    f.create_dataset(\"data\", data=store_mat_tst)\n",
    "    f.create_dataset(\"label\", data=scores_tst)\n",
    "    f.close()\n",
    "\n",
    "with open(hdf_list_tst_file, \"w\") as f:\n",
    "    f.write(hdf_tst_file)\n",
    "    f.close()"
   ]
  },
  {
   "cell_type": "code",
   "execution_count": 8,
   "metadata": {},
   "outputs": [
    {
     "data": {
      "text/plain": [
       "(300, 161)"
      ]
     },
     "execution_count": 8,
     "metadata": {},
     "output_type": "execute_result"
    }
   ],
   "source": [
    "store_mat_tst.shape"
   ]
  },
  {
   "cell_type": "markdown",
   "metadata": {},
   "source": [
    "### Create CBoW Training Set and hdf5 databases"
   ]
  },
  {
   "cell_type": "code",
   "execution_count": null,
   "metadata": {
    "collapsed": true
   },
   "outputs": [],
   "source": [
    "Caffe_trn = list(store_mat_trn)\n",
    "\n",
    "CaffeCor2Vec = [item for sublist in Caffe_trn for item in sublist]\n",
    "\n",
    "dat = []\n",
    "lab = []\n",
    "for i in range(2, len(CaffeCor2Vec) - 2):\n",
    "    context = [CaffeCor2Vec[i - 2], CaffeCor2Vec[i - 1], CaffeCor2Vec[i + 1], CaffeCor2Vec[i + 2]]\n",
    "    target = CaffeCor2Vec[i]\n",
    "    dat.append(context)\n",
    "    lab.append(target)\n",
    "\n",
    "dat_np = np.asarray(dat)\n",
    "\n",
    "lab_np = np.asarray(lab)\n",
    "\n",
    "hdf_trn_file = \"trn_caffewrd2vec.hdf5\"\n",
    "hdf_list_trn_file = \"trn_caffewrd2vec_hdf5_list.txt\"\n",
    "\n",
    "with h5py.File(hdf_trn_file, \"w\") as f:\n",
    "    #Create dataset\n",
    "    f.create_dataset(\"data\", data=dat_np)\n",
    "    f.create_dataset(\"label\", data=lab_np)\n",
    "    f.close()\n",
    "\n",
    "with open(hdf_list_trn_file, \"w\") as f:\n",
    "    f.write(hdf_trn_file)\n",
    "    f.close()"
   ]
  },
  {
   "cell_type": "markdown",
   "metadata": {},
   "source": [
    "### Create skip-gram training set and hdf5 databases"
   ]
  },
  {
   "cell_type": "code",
   "execution_count": 1,
   "metadata": {},
   "outputs": [
    {
     "name": "stderr",
     "output_type": "stream",
     "text": [
      "C:\\Users\\akyng\\Anaconda3\\lib\\site-packages\\h5py\\__init__.py:36: FutureWarning: Conversion of the second argument of issubdtype from `float` to `np.floating` is deprecated. In future, it will be treated as `np.float64 == np.dtype(float).type`.\n",
      "  from ._conv import register_converters as _register_converters\n",
      "Using TensorFlow backend.\n"
     ]
    }
   ],
   "source": []
  },
  {
   "cell_type": "code",
   "execution_count": null,
   "metadata": {
    "collapsed": true
   },
   "outputs": [],
   "source": []
  }
 ],
 "metadata": {
  "kernelspec": {
   "display_name": "Python [default]",
   "language": "python",
   "name": "python3"
  },
  "language_info": {
   "codemirror_mode": {
    "name": "ipython",
    "version": 3
   },
   "file_extension": ".py",
   "mimetype": "text/x-python",
   "name": "python",
   "nbconvert_exporter": "python",
   "pygments_lexer": "ipython3",
   "version": "3.5.3"
  }
 },
 "nbformat": 4,
 "nbformat_minor": 2
}
