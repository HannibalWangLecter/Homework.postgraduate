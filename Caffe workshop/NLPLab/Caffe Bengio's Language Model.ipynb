{
 "cells": [
  {
   "cell_type": "markdown",
   "metadata": {},
   "source": [
    "# Bengio Language Model in Caffe"
   ]
  },
  {
   "cell_type": "code",
   "execution_count": 2,
   "metadata": {
    "collapsed": true
   },
   "outputs": [],
   "source": [
    "import numpy as np\n",
    "import sys\n",
    "import caffe"
   ]
  },
  {
   "cell_type": "code",
   "execution_count": 5,
   "metadata": {
    "collapsed": true
   },
   "outputs": [],
   "source": [
    "f = open('vc.csv','r')\n",
    "voc = f.readlines()\n",
    "f.close()\n",
    "vocab = [None]*len(voc)\n",
    "for n in range(len(voc)):\n",
    "    vocab[n] = voc[n].split('\\n')[0].replace(',', '').replace(' ','')\n",
    "del voc"
   ]
  },
  {
   "cell_type": "code",
   "execution_count": 6,
   "metadata": {},
   "outputs": [],
   "source": [
    "WordsInput = ['school','used','my'] # Priming words ['he','said','the'] ['they','had','to'] ['she','had','a'] ['police','game','the']\n",
    "IndexInput = [None]*len(WordsInput)\n",
    "for i in range(len(WordsInput)):\n",
    "    IndexInput[i] = vocab.index(WordsInput[i])+1"
   ]
  },
  {
   "cell_type": "code",
   "execution_count": 7,
   "metadata": {
    "collapsed": true
   },
   "outputs": [],
   "source": [
    "caffe.set_mode_cpu()\n",
    "\n",
    "model_def = 'BengioLM_deploy.prototxt'\n",
    "model_weights = 'BengioLM.caffemodel'\n",
    "\n",
    "net = caffe.Net(model_def,model_weights,caffe.TEST)"
   ]
  },
  {
   "cell_type": "code",
   "execution_count": 8,
   "metadata": {},
   "outputs": [
    {
     "name": "stdout",
     "output_type": "stream",
     "text": [
      "data\t(1, 3)\n",
      "WordEmbedding\t(1, 3, 50)\n",
      "FC1\t(1, 200)\n",
      "predict\t(1, 250)\n",
      "probs\t(1, 250)\n"
     ]
    }
   ],
   "source": [
    "for layer_name, blob in net.blobs.items():\n",
    "    print (layer_name + '\\t' + str(blob.data.shape))"
   ]
  },
  {
   "cell_type": "code",
   "execution_count": 9,
   "metadata": {
    "collapsed": true
   },
   "outputs": [],
   "source": [
    "net.blobs['data'].data[...] = IndexInput"
   ]
  },
  {
   "cell_type": "code",
   "execution_count": 10,
   "metadata": {
    "collapsed": true
   },
   "outputs": [],
   "source": [
    "out = net.forward()"
   ]
  },
  {
   "cell_type": "code",
   "execution_count": 12,
   "metadata": {},
   "outputs": [
    {
     "name": "stdout",
     "output_type": "stream",
     "text": [
      "Predicted word: life\n"
     ]
    }
   ],
   "source": [
    "print(\"Predicted word:\",vocab[np.argmax(out['probs'])-1])"
   ]
  },
  {
   "cell_type": "code",
   "execution_count": 15,
   "metadata": {},
   "outputs": [
    {
     "name": "stdout",
     "output_type": "stream",
     "text": [
      "Predicted 4-gram: school used my life\n"
     ]
    }
   ],
   "source": [
    "print(\"Predicted 4-gram:\",WordsInput[0],WordsInput[1],WordsInput[2],vocab[np.argmax(out['probs'])-1])"
   ]
  }
 ],
 "metadata": {
  "kernelspec": {
   "display_name": "Python [default]",
   "language": "python",
   "name": "python3"
  },
  "language_info": {
   "codemirror_mode": {
    "name": "ipython",
    "version": 3
   },
   "file_extension": ".py",
   "mimetype": "text/x-python",
   "name": "python",
   "nbconvert_exporter": "python",
   "pygments_lexer": "ipython3",
   "version": "3.5.3"
  }
 },
 "nbformat": 4,
 "nbformat_minor": 2
}
