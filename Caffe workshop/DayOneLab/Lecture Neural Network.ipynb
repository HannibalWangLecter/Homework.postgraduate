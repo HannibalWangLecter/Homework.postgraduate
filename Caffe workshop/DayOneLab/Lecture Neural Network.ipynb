{
 "cells": [
  {
   "cell_type": "markdown",
   "metadata": {
    "nbpresent": {
     "id": "c88a8066-4ed8-4d64-874e-b5f32459742a"
    }
   },
   "source": [
    "# Forward and Backpropagation Lecture - Elementary Neural Network"
   ]
  },
  {
   "cell_type": "code",
   "execution_count": 504,
   "metadata": {
    "nbpresent": {
     "id": "6b469da0-ec7c-477a-8dea-47f5b27e81b2"
    }
   },
   "outputs": [],
   "source": [
    "import numpy as np"
   ]
  },
  {
   "cell_type": "code",
   "execution_count": 505,
   "metadata": {
    "nbpresent": {
     "id": "d3ee3da5-bd2b-4aa8-b2e4-503fd44d8657"
    }
   },
   "outputs": [],
   "source": [
    "X = np.array([[0.333,0.013,1]])"
   ]
  },
  {
   "cell_type": "code",
   "execution_count": 506,
   "metadata": {
    "nbpresent": {
     "id": "175f59e3-336b-41c6-bed1-9d3fa1cd2cf7"
    }
   },
   "outputs": [],
   "source": [
    "Y = np.asarray([-2])"
   ]
  },
  {
   "cell_type": "code",
   "execution_count": 507,
   "metadata": {
    "nbpresent": {
     "id": "31a78980-1c76-48b7-a58a-0443aed928d4"
    }
   },
   "outputs": [],
   "source": [
    "Theta_1 = np.asarray([[0.947, -0.010, 2.205], [2.299,  0.121, -2.276], [-2.465, -0.855,  0.695], [-2.309, -2.961,  1.107]])"
   ]
  },
  {
   "cell_type": "code",
   "execution_count": 508,
   "metadata": {
    "nbpresent": {
     "id": "c2191688-852c-47e6-8f71-66cd74ecdc45"
    }
   },
   "outputs": [],
   "source": [
    "Theta_2 = np.asarray([[-2.883,-1.067,0.987,-1.758,-1.435]])"
   ]
  },
  {
   "cell_type": "code",
   "execution_count": 509,
   "metadata": {
    "nbpresent": {
     "id": "3841cc8c-09bc-46b9-9119-7e17556db794"
    }
   },
   "outputs": [],
   "source": [
    "Init_Theta_1 = Theta_1"
   ]
  },
  {
   "cell_type": "code",
   "execution_count": 510,
   "metadata": {
    "nbpresent": {
     "id": "2c5d3734-5f0e-433f-ba8a-cd9a49b431d9"
    }
   },
   "outputs": [],
   "source": [
    "Init_Theta_2 = Theta_2"
   ]
  },
  {
   "cell_type": "code",
   "execution_count": 511,
   "metadata": {
    "nbpresent": {
     "id": "3a68211d-1bb6-4b03-9973-e287497ef419"
    }
   },
   "outputs": [],
   "source": [
    "def TANH(x):\n",
    "    x = np.tanh(x)\n",
    "    return x"
   ]
  },
  {
   "cell_type": "code",
   "execution_count": 512,
   "metadata": {
    "nbpresent": {
     "id": "cf0c0689-3675-48e5-9509-54bc13df477c"
    }
   },
   "outputs": [],
   "source": [
    "def TANH_GRAD(x):\n",
    "    x = 1 - np.tanh(x)**2\n",
    "    return x"
   ]
  },
  {
   "cell_type": "code",
   "execution_count": 513,
   "metadata": {
    "nbpresent": {
     "id": "d53f4359-7771-4b80-a31f-d705988a9848"
    }
   },
   "outputs": [],
   "source": [
    "iters = 500"
   ]
  },
  {
   "cell_type": "code",
   "execution_count": 514,
   "metadata": {
    "nbpresent": {
     "id": "6d5acd22-000a-4c52-8485-ec7fa7278208"
    }
   },
   "outputs": [],
   "source": [
    "lr = 0.01 # Learning rate "
   ]
  },
  {
   "cell_type": "code",
   "execution_count": 515,
   "metadata": {
    "nbpresent": {
     "id": "373ee491-5450-4404-87d4-01a772dee6f9"
    }
   },
   "outputs": [
    {
     "name": "stdout",
     "output_type": "stream",
     "text": [
      "Iteration : 1  Loss:  [[ 1.91939201]]\n",
      "Iteration : 50  Loss:  [[ 0.00134328]]\n",
      "Iteration : 100  Loss:  [[  8.92859860e-07]]\n",
      "Iteration : 150  Loss:  [[  5.97532208e-10]]\n",
      "Iteration : 200  Loss:  [[  3.99960222e-13]]\n",
      "Iteration : 250  Loss:  [[  2.67715972e-16]]\n",
      "Iteration : 300  Loss:  [[  1.79197569e-19]]\n",
      "Iteration : 350  Loss:  [[  1.19953685e-22]]\n",
      "Iteration : 400  Loss:  [[  8.02275485e-26]]\n",
      "Iteration : 450  Loss:  [[  6.66587465e-29]]\n",
      "Iteration : 500  Loss:  [[  4.83177304e-30]]\n"
     ]
    }
   ],
   "source": [
    "for i in range(iters):\n",
    "    # Fowards propagation\n",
    "    z = np.dot(X,Theta_1.T)\n",
    "    a = np.asarray([np.append(TANH(z),1)])\n",
    "    out = np.dot(a,Theta_2.T)\n",
    "    J = 0.5*(out - Y)**2\n",
    "    \n",
    "    #Backpropagation\n",
    "    J_prime = out - Y\n",
    "    Delta_2 = J_prime*a\n",
    "    Delta_1 = np.dot((np.dot(J_prime,Theta_2[:,:-1])*TANH_GRAD(z)).T,X)\n",
    "    \n",
    "    #SGD weight update\n",
    "    Theta_1 = Theta_1 - lr*Delta_1\n",
    "    Theta_2 = Theta_2 - lr*Delta_2\n",
    "    \n",
    "    if (i + 1) % 50 == 0 or i == 0:\n",
    "        print(\"Iteration :\",i+1,\" Loss: \",J,)\n",
    "    "
   ]
  },
  {
   "cell_type": "code",
   "execution_count": 516,
   "metadata": {
    "nbpresent": {
     "id": "bb4f0625-7dd6-4729-8820-9bdb6c3112d3"
    }
   },
   "outputs": [
    {
     "data": {
      "text/plain": [
       "array([[-2.]])"
      ]
     },
     "execution_count": 516,
     "metadata": {},
     "output_type": "execute_result"
    }
   ],
   "source": [
    "out"
   ]
  },
  {
   "cell_type": "code",
   "execution_count": 517,
   "metadata": {
    "nbpresent": {
     "id": "22d209e2-3940-4195-af8b-42bba5cf4edf"
    }
   },
   "outputs": [
    {
     "name": "stdout",
     "output_type": "stream",
     "text": [
      "[[ 0.94043579 -0.01025626  2.18528767]\n",
      " [ 2.28071549  0.12028619 -2.33090845]\n",
      " [-2.3760237  -0.85152645  0.96219609]\n",
      " [-2.46386524 -2.96704579  0.64193922]] [[-2.61207966 -1.31728155  0.98864537 -1.74388351 -1.16047389]]\n"
     ]
    }
   ],
   "source": [
    "print(Theta_1, Theta_2)"
   ]
  },
  {
   "cell_type": "code",
   "execution_count": 518,
   "metadata": {
    "nbpresent": {
     "id": "e5168742-aed9-461b-87d5-17a8e9e99a64"
    }
   },
   "outputs": [],
   "source": [
    "def NumericalGradients(x,y,initTh1,initTh2):\n",
    "    e = 1e-4\n",
    "    perturb_1 = np.zeros((initTh1.shape[0],initTh1.shape[1]))\n",
    "    numgrad_1 = np.zeros((initTh1.shape[0],initTh1.shape[1]))\n",
    "    perturb_2 = np.zeros((initTh2.shape[0],initTh2.shape[1]))\n",
    "    numgrad_2 = np.zeros((initTh2.shape[0],initTh2.shape[1]))\n",
    "    for i in range(initTh1.shape[0]):\n",
    "        for j in range(initTh1.shape[1]):\n",
    "            perturb_1[i,j] = e\n",
    "            lg2 = initTh1 + perturb_1\n",
    "            lg1 = initTh1 - perturb_1\n",
    "            \n",
    "            z_lg2 = np.dot(x,lg2.T)\n",
    "            a_lg2 = np.asarray([np.append(TANH(z_lg2),1)])\n",
    "            out_lg2 = np.dot(a_lg2,initTh2.T)\n",
    "            J_lg2 = 0.5*(out_lg2-y)**2\n",
    "            \n",
    "            z_lg1 = np.dot(x,lg1.T)\n",
    "            a_lg1 = np.asarray([np.append(TANH(z_lg1),1)])\n",
    "            out_lg1 = np.dot(a_lg1,initTh2.T)\n",
    "            J_lg1 = 0.5*(out_lg1-y)**2\n",
    "            \n",
    "            numgrad_1[i,j] = (J_lg2 - J_lg1) / (2*e)\n",
    "            perturb_1[i,j] = 0\n",
    "    for i in range(initTh2.shape[0]):\n",
    "        for j in range(initTh2.shape[1]):\n",
    "            perturb_2[i,j] = e\n",
    "            lg2 = initTh2 + perturb_2\n",
    "            lg1 = initTh2 - perturb_2\n",
    "            \n",
    "            z = np.dot(x,initTh1.T)\n",
    "            a = np.asarray([np.append(TANH(z),1)])\n",
    "            out = np.dot(a,lg2.T)\n",
    "            J_lg2 = 0.5*(out-y)**2\n",
    "            out = np.dot(a,lg1.T)\n",
    "            J_lg1 = 0.5*(out-y)**2\n",
    "            \n",
    "            numgrad_2[i,j] = (J_lg2 - J_lg1) / (2*e)\n",
    "            perturb_2[i,j] = 0\n",
    "    return numgrad_1, numgrad_2\n",
    "    "
   ]
  },
  {
   "cell_type": "code",
   "execution_count": 519,
   "metadata": {
    "nbpresent": {
     "id": "9533bac6-13aa-4421-a168-2ea2d838fc85"
    }
   },
   "outputs": [
    {
     "name": "stdout",
     "output_type": "stream",
     "text": [
      "[[  4.80625850e-02   1.87631713e-03   1.44332088e-01]\n",
      " [  1.23796317e-01   4.83288926e-03   3.71760714e-01]\n",
      " [ -6.32029070e-01  -2.46738075e-02  -1.89798519e+00]\n",
      " [  1.04989209e+00   4.09867781e-02   3.15282907e+00]] [[-1.93408795  1.77655213  0.26667783 -0.57006406 -1.95928151]]\n"
     ]
    }
   ],
   "source": [
    "numgrad_Th1, numgrad_Th2 = NumericalGradients(X,Y,Init_Theta_1,Init_Theta_2)\n",
    "print(numgrad_Th1,numgrad_Th2)"
   ]
  },
  {
   "cell_type": "code",
   "execution_count": 520,
   "metadata": {
    "nbpresent": {
     "id": "226b49ab-57a8-4895-912c-9a501d527d84"
    }
   },
   "outputs": [
    {
     "name": "stdout",
     "output_type": "stream",
     "text": [
      "[[  4.80625850e-02   1.87631713e-03   1.44332087e-01]\n",
      " [  1.23796317e-01   4.83288926e-03   3.71760712e-01]\n",
      " [ -6.32029070e-01  -2.46738075e-02  -1.89798519e+00]\n",
      " [  1.04989209e+00   4.09867781e-02   3.15282909e+00]] [[-1.93408795  1.77655213  0.26667783 -0.57006406 -1.95928151]]\n"
     ]
    }
   ],
   "source": [
    "z = np.dot(X,Init_Theta_1.T)\n",
    "a = np.asarray([np.append(TANH(z),1)])\n",
    "out = np.dot(a,Init_Theta_2.T)\n",
    "J = 0.5*(out-Y)**2\n",
    "J_prime = out - Y\n",
    "Delta_2 = J_prime*a\n",
    "Delta_1 = np.dot((np.dot(J_prime,Init_Theta_2[:,:-1])*TANH_GRAD(z)).T,X)\n",
    "print(Delta_1,Delta_2)"
   ]
  },
  {
   "cell_type": "code",
   "execution_count": 521,
   "metadata": {
    "nbpresent": {
     "id": "8fb19150-65a8-4c82-a644-ad3a52d42f99"
    }
   },
   "outputs": [
    {
     "data": {
      "text/plain": [
       "2.200108735243527e-09"
      ]
     },
     "execution_count": 521,
     "metadata": {},
     "output_type": "execute_result"
    }
   ],
   "source": [
    "np.linalg.norm(Delta_1-numgrad_Th1)/np.linalg.norm(Delta_1+numgrad_Th1)"
   ]
  },
  {
   "cell_type": "code",
   "execution_count": 522,
   "metadata": {
    "nbpresent": {
     "id": "1c186abc-6020-4b5c-a38c-6938fffd64b3"
    }
   },
   "outputs": [
    {
     "data": {
      "text/plain": [
       "1.0615781173761242e-12"
      ]
     },
     "execution_count": 522,
     "metadata": {},
     "output_type": "execute_result"
    }
   ],
   "source": [
    "np.linalg.norm(Delta_2-numgrad_Th2)/np.linalg.norm(Delta_2+numgrad_Th2)"
   ]
  },
  {
   "cell_type": "markdown",
   "metadata": {
    "nbpresent": {
     "id": "dd2d00d9-f28c-4d01-9b22-2cb0fbb8f2fd"
    }
   },
   "source": [
    "## Linear Regression via the \"Normal Equation\""
   ]
  },
  {
   "cell_type": "code",
   "execution_count": 523,
   "metadata": {
    "nbpresent": {
     "id": "2f60b732-1498-47e5-a2e1-9fe2c6301d21"
    }
   },
   "outputs": [],
   "source": [
    "LR_coef = np.dot(np.linalg.pinv(np.dot(X.T,X)),X.T)*-2"
   ]
  },
  {
   "cell_type": "code",
   "execution_count": 524,
   "metadata": {
    "nbpresent": {
     "id": "bd84a6a6-7252-444f-b1e2-af7d8bbd406a"
    }
   },
   "outputs": [
    {
     "data": {
      "text/plain": [
       "array([[-2.]])"
      ]
     },
     "execution_count": 524,
     "metadata": {},
     "output_type": "execute_result"
    }
   ],
   "source": [
    "np.dot(LR_coef.T,X.T)"
   ]
  },
  {
   "cell_type": "code",
   "execution_count": 525,
   "metadata": {
    "nbpresent": {
     "id": "a41c3a7b-4de8-4b51-9a43-e585946e676a"
    }
   },
   "outputs": [
    {
     "data": {
      "text/plain": [
       "array([[-0.59942865],\n",
       "       [-0.02340112],\n",
       "       [-1.80008604]])"
      ]
     },
     "execution_count": 525,
     "metadata": {},
     "output_type": "execute_result"
    }
   ],
   "source": [
    "LR_coef"
   ]
  },
  {
   "cell_type": "markdown",
   "metadata": {
    "nbpresent": {
     "id": "e2861728-bf18-486b-ad75-7d12abde3c06"
    }
   },
   "source": [
    "### Linear regression has a global minimum and achieves this with 3 parameters. The neural net gets very close, but  with over 5 times the number of parameters (17)."
   ]
  },
  {
   "cell_type": "code",
   "execution_count": null,
   "metadata": {},
   "outputs": [],
   "source": []
  }
 ],
 "metadata": {
  "anaconda-cloud": {},
  "kernelspec": {
   "display_name": "Python [default]",
   "language": "python",
   "name": "python3"
  },
  "language_info": {
   "codemirror_mode": {
    "name": "ipython",
    "version": 3
   },
   "file_extension": ".py",
   "mimetype": "text/x-python",
   "name": "python",
   "nbconvert_exporter": "python",
   "pygments_lexer": "ipython3",
   "version": "3.5.2"
  },
  "nbpresent": {
   "slides": {
    "1515b9ac-cbcf-440d-9aef-65feee46cbc5": {
     "id": "1515b9ac-cbcf-440d-9aef-65feee46cbc5",
     "prev": null,
     "regions": {
      "0600da2d-d439-4e38-b45d-217c67a21100": {
       "attrs": {
        "height": 1,
        "width": 1,
        "x": 0,
        "y": 0
       },
       "id": "0600da2d-d439-4e38-b45d-217c67a21100"
      }
     }
    },
    "ae2ed33d-b469-4a34-bfa8-761f52b27e1f": {
     "id": "ae2ed33d-b469-4a34-bfa8-761f52b27e1f",
     "prev": "1515b9ac-cbcf-440d-9aef-65feee46cbc5",
     "regions": {
      "f0775e67-fad6-4d71-9931-a5622fda4dba": {
       "attrs": {
        "height": 1,
        "width": 1,
        "x": 0,
        "y": 0
       },
       "id": "f0775e67-fad6-4d71-9931-a5622fda4dba"
      }
     }
    }
   },
   "themes": {}
  }
 },
 "nbformat": 4,
 "nbformat_minor": 1
}
